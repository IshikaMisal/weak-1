{
  "nbformat": 4,
  "nbformat_minor": 0,
  "metadata": {
    "colab": {
      "name": "Sunday.ipynb",
      "version": "0.3.2",
      "provenance": []
    },
    "kernelspec": {
      "name": "python3",
      "display_name": "Python 3"
    }
  },
  "cells": [
    {
      "cell_type": "markdown",
      "metadata": {
        "id": "J-icx2QHqIP3",
        "colab_type": "text"
      },
      "source": [
        "**ASSIGNMENT OPERATOR:**"
      ]
    },
    {
      "cell_type": "code",
      "metadata": {
        "id": "4_4qGO81qNG_",
        "colab_type": "code",
        "colab": {}
      },
      "source": [
        "x = 1\n",
        "y = 1\n",
        "z = (x==y)\n",
        "x=y\n",
        "print ((z))\n",
        "print (type(x))\n",
        "print(x)\n"
      ],
      "execution_count": 0,
      "outputs": []
    },
    {
      "cell_type": "markdown",
      "metadata": {
        "id": "vzFH06IDqplv",
        "colab_type": "text"
      },
      "source": [
        "**CALCULATOR PROGRAM:**"
      ]
    },
    {
      "cell_type": "code",
      "metadata": {
        "id": "RRdkmb7brpI5",
        "colab_type": "code",
        "colab": {}
      },
      "source": [
        "def add(x , y):\n",
        "  print (x +y)\n",
        "def sub(x , y):\n",
        "  print(x - y)\n",
        "def mul(x , y):\n",
        "  print (x * y)\n",
        "def div(x , y):\n",
        "  print(x / y)\n",
        "\n",
        "print(\"select opration\")\n",
        "print ('1. add')\n",
        "print ('2. sub')\n",
        "print ('3. mul')\n",
        "print ('4. div')\n",
        "z = input(\"Select any operation(1,2,3,4)\")\n",
        "\n",
        "x = int (input(\"Enter ur first number:\"))\n",
        "y = int (input(\"Enter ur second number:\"))\n",
        "if z == 1:\n",
        "  print(\"addition of given number is\" , add (x , y))\n",
        "elif z==2:\n",
        "  print(\"subtraction of given number is\" , sub(x , y))\n",
        "elif z==3:\n",
        "  print(\"multiplication of given number is\" , mul(x , y))\n",
        "elif z==4:\n",
        "  print(\"division of given number is\" , div(x , y))\n",
        "else:\n",
        "  print(\"invalid input\")"
      ],
      "execution_count": 0,
      "outputs": []
    },
    {
      "cell_type": "markdown",
      "metadata": {
        "id": "uP7HQXnaJi65",
        "colab_type": "text"
      },
      "source": [
        "**IF ELSE:**"
      ]
    },
    {
      "cell_type": "code",
      "metadata": {
        "id": "GIER0j70Jm7Y",
        "colab_type": "code",
        "colab": {}
      },
      "source": [
        "a = 3\n",
        "if a >= 0:\n",
        "  print (\"positive number\")\n",
        "else:\n",
        "    print(\"negative number\")"
      ],
      "execution_count": 0,
      "outputs": []
    },
    {
      "cell_type": "markdown",
      "metadata": {
        "id": "6q60lgobrs2B",
        "colab_type": "text"
      },
      "source": [
        "**NESTED IF ELSE:**"
      ]
    },
    {
      "cell_type": "code",
      "metadata": {
        "id": "xpE6t1k1r0cm",
        "colab_type": "code",
        "colab": {}
      },
      "source": [
        "a = int (input (\"Enter a value:\"))\n",
        "b = int (input (\"Enter a value:\"))\n",
        "c = int (input (\"Enter a value:\"))\n",
        "if (a > b):\n",
        "  if (a > c):\n",
        "    print (\" a is greater \")\n",
        "  else:\n",
        "    print(\" c is greater than a \")\n",
        "else:\n",
        "  if (b > c):\n",
        "    print(\" b is greatest\")\n",
        "  else:\n",
        "    print (\" c is greatest\")"
      ],
      "execution_count": 0,
      "outputs": []
    },
    {
      "cell_type": "markdown",
      "metadata": {
        "id": "Bw7x5Umqr2tD",
        "colab_type": "text"
      },
      "source": [
        "**IF ELIF ELSE:**"
      ]
    },
    {
      "cell_type": "code",
      "metadata": {
        "id": "05M9SRG4r-1J",
        "colab_type": "code",
        "colab": {}
      },
      "source": [
        "a = 4\n",
        "if a > 0:\n",
        "  print(\"positive number\")\n",
        "elif a ==0:\n",
        "  print (\"zero\")\n",
        "else:\n",
        "  print(\"negative number\")"
      ],
      "execution_count": 0,
      "outputs": []
    },
    {
      "cell_type": "markdown",
      "metadata": {
        "id": "TZqWLtm-sAP-",
        "colab_type": "text"
      },
      "source": [
        "**TO CHECK DATA TYPES:**"
      ]
    },
    {
      "cell_type": "code",
      "metadata": {
        "id": "F_KCilwjsKWF",
        "colab_type": "code",
        "colab": {}
      },
      "source": [
        "x = 4\n",
        "y = 5\n",
        "z = 0.2\n",
        "a = [1,2,3,4]\n",
        "print (type (x))\n",
        "print (type (y))\n",
        "print (type (z))\n",
        "print (type (a))\n",
        "       "
      ],
      "execution_count": 0,
      "outputs": []
    },
    {
      "cell_type": "markdown",
      "metadata": {
        "id": "aHJ9HIyusLP_",
        "colab_type": "text"
      },
      "source": [
        "**INT , STR , FLOAT CONVERSION:**"
      ]
    },
    {
      "cell_type": "code",
      "metadata": {
        "id": "34L7TsJksXmR",
        "colab_type": "code",
        "colab": {}
      },
      "source": [
        "a = int (input(\"Enter a value:\"))\n",
        "b = float (input(\"Enter a value:\"))\n",
        "c = str (input(\"Enter ur name:\"))\n",
        "print (a)\n",
        "print (b)\n",
        "print (c)"
      ],
      "execution_count": 0,
      "outputs": []
    },
    {
      "cell_type": "markdown",
      "metadata": {
        "id": "I4t4cD_CVu_l",
        "colab_type": "text"
      },
      "source": [
        "**CONCATENATE STRING**"
      ]
    },
    {
      "cell_type": "code",
      "metadata": {
        "id": "uygM_6YqWNSH",
        "colab_type": "code",
        "colab": {
          "base_uri": "https://localhost:8080/",
          "height": 70
        },
        "outputId": "5a032eec-cb56-4db4-cbac-2b72518a60b0"
      },
      "source": [
        "x = str(input(\"Enter ur name: \"))\n",
        "y = str(input(\"Enter ur surname: \"))\n",
        "z = x + y\n",
        "print (z)"
      ],
      "execution_count": 41,
      "outputs": [
        {
          "output_type": "stream",
          "text": [
            "Enter ur name: ishika\n",
            "Enter ur surname: misal\n",
            "ishikamisal\n"
          ],
          "name": "stdout"
        }
      ]
    }
  ]
}