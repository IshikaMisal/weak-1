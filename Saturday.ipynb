{
  "nbformat": 4,
  "nbformat_minor": 0,
  "metadata": {
    "colab": {
      "name": "Saturday.ipynb",
      "version": "0.3.2",
      "provenance": []
    },
    "kernelspec": {
      "name": "python3",
      "display_name": "Python 3"
    }
  },
  "cells": [
    {
      "cell_type": "markdown",
      "metadata": {
        "id": "YF7kuXTYlEgj",
        "colab_type": "text"
      },
      "source": [
        "**OPERATORS USING FORMAT METHOD :**"
      ]
    },
    {
      "cell_type": "code",
      "metadata": {
        "id": "F8EFCYWtlY85",
        "colab_type": "code",
        "outputId": "eea80eca-934d-4ada-ebe5-a9925598db56",
        "colab": {
          "base_uri": "https://localhost:8080/",
          "height": 70
        }
      },
      "source": [
        "a = int ( input (\"Enter number:\"))\n",
        "b = int ( input (\"Enter number:\"))\n",
        "c = a + b\n",
        "d = a - b\n",
        "e = a * b\n",
        "f = a / b\n",
        "\n",
        "x = c > d\n",
        "y = e > f\n",
        "\n",
        "print(\"add is {} , sub is {} , mul is {} , div is {} , x is {} , y is {}\" .format(c , d, e , f , x , y))"
      ],
      "execution_count": 0,
      "outputs": [
        {
          "output_type": "stream",
          "text": [
            "Enter number:2\n",
            "Enter number:3\n",
            "add is 5 , sub is -1 , mul is 6 , div is 0.6666666666666666 , x is True , y is True\n"
          ],
          "name": "stdout"
        }
      ]
    },
    {
      "cell_type": "markdown",
      "metadata": {
        "id": "PMshqCA5pHYn",
        "colab_type": "text"
      },
      "source": [
        "**SIMPLE CALCULATION:**"
      ]
    },
    {
      "cell_type": "code",
      "metadata": {
        "id": "5TPXOmZWpQMJ",
        "colab_type": "code",
        "colab": {
          "base_uri": "https://localhost:8080/",
          "height": 123
        },
        "outputId": "d7a6f370-2314-438a-dcc5-ba1cd692e8f3"
      },
      "source": [
        "a = int (input (\" kindly enter a number :\"))\n",
        "b = int (input (\" kindly enter second number :\"))\n",
        "c = a + b\n",
        "d = a - b\n",
        "e = a * b\n",
        "f = a / b\n",
        "print (\"The addition of the given two number is:\" , a )\n",
        "print (\"The subtraction of the given two number is:\" , d )\n",
        "print (\"The multiplication of the given two number is:\" , e )\n",
        "print (\"The division of the given two number is:\" , f )\n",
        "\n"
      ],
      "execution_count": 3,
      "outputs": [
        {
          "output_type": "stream",
          "text": [
            " kindly enter a number :4\n",
            " kindly enter second number :2\n",
            "The addition of the given two number is: 4\n",
            "The subtraction of the given two number is: 2\n",
            "The multiplication of the given two number is: 8\n",
            "The division of the given two number is: 2.0\n"
          ],
          "name": "stdout"
        }
      ]
    }
  ]
}